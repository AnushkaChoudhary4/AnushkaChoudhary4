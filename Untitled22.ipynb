{
  "nbformat": 4,
  "nbformat_minor": 0,
  "metadata": {
    "colab": {
      "provenance": [],
      "authorship_tag": "ABX9TyPiDI0QNMB1n+9QPGDfq9oC",
      "include_colab_link": true
    },
    "kernelspec": {
      "name": "python3",
      "display_name": "Python 3"
    },
    "language_info": {
      "name": "python"
    }
  },
  "cells": [
    {
      "cell_type": "markdown",
      "metadata": {
        "id": "view-in-github",
        "colab_type": "text"
      },
      "source": [
        "<a href=\"https://colab.research.google.com/github/AnushkaChoudhary4/AnushkaChoudhary4/blob/main/Untitled22.ipynb\" target=\"_parent\"><img src=\"https://colab.research.google.com/assets/colab-badge.svg\" alt=\"Open In Colab\"/></a>"
      ]
    },
    {
      "cell_type": "code",
      "execution_count": 2,
      "metadata": {
        "colab": {
          "base_uri": "https://localhost:8080/"
        },
        "id": "FjbBreeJdSjK",
        "outputId": "4efee74d-6a80-4e01-992c-2a1f2a186003"
      },
      "outputs": [
        {
          "output_type": "stream",
          "name": "stdout",
          "text": [
            "True\n"
          ]
        }
      ],
      "source": [
        "txt = 'PythonProgramming'\n",
        "print(txt.isalpha())"
      ]
    },
    {
      "cell_type": "code",
      "source": [
        "txt = 'Hello1234'\n",
        "print(txt.isalnum())"
      ],
      "metadata": {
        "colab": {
          "base_uri": "https://localhost:8080/"
        },
        "id": "zMlhXnbfeHqA",
        "outputId": "67bd6ee6-b33e-4eb4-f692-9e9294b8fc38"
      },
      "execution_count": 4,
      "outputs": [
        {
          "output_type": "stream",
          "name": "stdout",
          "text": [
            "True\n"
          ]
        }
      ]
    },
    {
      "cell_type": "code",
      "source": [
        "f = open(\"pihu.txt\",\"rt\")\n",
        "print(f.read())"
      ],
      "metadata": {
        "colab": {
          "base_uri": "https://localhost:8080/"
        },
        "id": "hsv7nN7Cenqb",
        "outputId": "c373b73d-7018-49a8-8d80-438d35d098a4"
      },
      "execution_count": 10,
      "outputs": [
        {
          "output_type": "stream",
          "name": "stdout",
          "text": [
            "txt = 'Hello1234'\n",
            "print(txt.isalnum())\n",
            "my name is priyanka\n",
            "hello..\n",
            "hiii.\n",
            "haye..\n",
            "\n"
          ]
        }
      ]
    },
    {
      "cell_type": "code",
      "source": [
        "f = open(\"pihu.txt\",\"r\")\n",
        "\n",
        "print(f.readline())\n"
      ],
      "metadata": {
        "colab": {
          "base_uri": "https://localhost:8080/"
        },
        "id": "WD24Iqc3iYri",
        "outputId": "2b7ea2d6-3f7b-4652-c32c-2c62f79bbe20"
      },
      "execution_count": 11,
      "outputs": [
        {
          "output_type": "stream",
          "name": "stdout",
          "text": [
            "txt = 'Hello1234'\n",
            "\n"
          ]
        }
      ]
    },
    {
      "cell_type": "code",
      "source": [
        "f = open(\"pihu.txt\", \"r\")\n",
        "for x in f:\n",
        "  print(x)\n"
      ],
      "metadata": {
        "colab": {
          "base_uri": "https://localhost:8080/"
        },
        "id": "feITDRRUipZH",
        "outputId": "45947862-db8d-4dc8-88b0-5b9cd03520e1"
      },
      "execution_count": 12,
      "outputs": [
        {
          "output_type": "stream",
          "name": "stdout",
          "text": [
            "txt = 'Hello1234'\n",
            "\n",
            "print(txt.isalnum())\n",
            "\n",
            "my name is priyanka\n",
            "\n",
            "hello..\n",
            "\n",
            "hiii.\n",
            "\n",
            "haye..\n",
            "\n"
          ]
        }
      ]
    },
    {
      "cell_type": "code",
      "source": [
        "f = open(\"pihu.txt\", \"r\")\n",
        "print(f.readline())\n",
        "for x in f:\n",
        "  print(x)\n"
      ],
      "metadata": {
        "colab": {
          "base_uri": "https://localhost:8080/"
        },
        "id": "r35gfnwnk8FJ",
        "outputId": "032e41eb-1243-4ede-9dc4-46d8f19b2f6e"
      },
      "execution_count": 15,
      "outputs": [
        {
          "output_type": "stream",
          "name": "stdout",
          "text": [
            "txt = 'Hello1234'\n",
            "\n",
            "print(txt.isalnum())\n",
            "\n",
            "my name is priyanka\n",
            "\n",
            "hello..\n",
            "\n",
            "hiii.\n",
            "\n",
            "haye..\n",
            "\n"
          ]
        }
      ]
    },
    {
      "cell_type": "code",
      "source": [
        "f = open(\"pihu.txt\", \"r\")\n",
        "for x in f:\n",
        "  print(f.readlines())\n",
        "\n"
      ],
      "metadata": {
        "colab": {
          "base_uri": "https://localhost:8080/"
        },
        "id": "HYOUtx_-lPBb",
        "outputId": "2c9ef290-75f8-4bf6-d542-867eb652ee4e"
      },
      "execution_count": 18,
      "outputs": [
        {
          "output_type": "stream",
          "name": "stdout",
          "text": [
            "['print(txt.isalnum())\\n', 'my name is priyanka\\n', 'hello..\\n', 'hiii.\\n', 'haye..\\n']\n"
          ]
        }
      ]
    },
    {
      "cell_type": "code",
      "source": [
        "f = open(\"pihu.txt\", \"w\")\n",
        "f.write(\"Now the file has more content!\")\n",
        "f.close()\n",
        "\n",
        "f = open(\"pihu.txt\", \"r\")\n",
        "print(f.read())\n"
      ],
      "metadata": {
        "colab": {
          "base_uri": "https://localhost:8080/"
        },
        "id": "irEJxtrMmvGw",
        "outputId": "4b7a8b3a-ded4-4ab8-8ba2-cb1089d0cc5c"
      },
      "execution_count": 24,
      "outputs": [
        {
          "output_type": "stream",
          "name": "stdout",
          "text": [
            "Now the file has more content!\n"
          ]
        }
      ]
    },
    {
      "cell_type": "code",
      "source": [
        "f = open(\"pihu.txt\", \"a\")\n",
        "f.write(\"Now the file\")\n",
        "f.close()\n",
        "\n",
        "f = open(\"pihu.txt\", \"r\")\n",
        "print(f.read())\n"
      ],
      "metadata": {
        "colab": {
          "base_uri": "https://localhost:8080/"
        },
        "id": "KlZ5dC3Vn-eh",
        "outputId": "4c661a55-a278-4ef4-982c-3076ccf97ba5"
      },
      "execution_count": 26,
      "outputs": [
        {
          "output_type": "stream",
          "name": "stdout",
          "text": [
            "Now the file has more content!Now the file has more content!Now the file\n"
          ]
        }
      ]
    },
    {
      "cell_type": "code",
      "source": [
        "f = open(\"pihu.txt\", \"r\")\n",
        "print(f.read())\n",
        "f.close()"
      ],
      "metadata": {
        "colab": {
          "base_uri": "https://localhost:8080/"
        },
        "id": "BRyjcFwli0HX",
        "outputId": "2fbdbe50-95b6-4714-dc35-5f955feea283"
      },
      "execution_count": 14,
      "outputs": [
        {
          "output_type": "stream",
          "name": "stdout",
          "text": [
            "txt = 'Hello1234'\n",
            "print(txt.isalnum())\n",
            "my name is priyanka\n",
            "hello..\n",
            "hiii.\n",
            "haye..\n",
            "\n"
          ]
        }
      ]
    },
    {
      "cell_type": "code",
      "source": [
        "with open(\"pihu.txt\", \"r\") as file:\n",
        "    data = file.readlines()\n",
        "    for line in data:\n",
        "        word = line.split()\n",
        "        print (word)"
      ],
      "metadata": {
        "colab": {
          "base_uri": "https://localhost:8080/"
        },
        "id": "sdqH_S1KodLE",
        "outputId": "de39b1c6-6ae0-4877-fade-4045a4acfa47"
      },
      "execution_count": 27,
      "outputs": [
        {
          "output_type": "stream",
          "name": "stdout",
          "text": [
            "['Now', 'the', 'file', 'has', 'more', 'content!Now', 'the', 'file', 'has', 'more', 'content!Now', 'the', 'file']\n"
          ]
        }
      ]
    }
  ]
}