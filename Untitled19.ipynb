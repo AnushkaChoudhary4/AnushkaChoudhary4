{
  "nbformat": 4,
  "nbformat_minor": 0,
  "metadata": {
    "colab": {
      "provenance": [],
      "authorship_tag": "ABX9TyMA6DgqEvZwkbrELqISkCQI",
      "include_colab_link": true
    },
    "kernelspec": {
      "name": "python3",
      "display_name": "Python 3"
    },
    "language_info": {
      "name": "python"
    }
  },
  "cells": [
    {
      "cell_type": "markdown",
      "metadata": {
        "id": "view-in-github",
        "colab_type": "text"
      },
      "source": [
        "<a href=\"https://colab.research.google.com/github/AnushkaChoudhary4/AnushkaChoudhary4/blob/main/Untitled19.ipynb\" target=\"_parent\"><img src=\"https://colab.research.google.com/assets/colab-badge.svg\" alt=\"Open In Colab\"/></a>"
      ]
    },
    {
      "cell_type": "code",
      "execution_count": 1,
      "metadata": {
        "colab": {
          "base_uri": "https://localhost:8080/"
        },
        "id": "tyaPuJMVugN3",
        "outputId": "f0004d95-7c41-48ce-f492-5aa560e5be9a"
      },
      "outputs": [
        {
          "output_type": "stream",
          "name": "stdout",
          "text": [
            "{'book', 'wait', 'number'}\n"
          ]
        }
      ],
      "source": [
        "thisset = {\"book\", \"number\", \"wait\"}\n",
        "print(thisset)"
      ]
    },
    {
      "cell_type": "code",
      "source": [
        "thisset = {\"book\", \"number\", \"wait\"}\n",
        "print  (type(thisset))"
      ],
      "metadata": {
        "colab": {
          "base_uri": "https://localhost:8080/"
        },
        "id": "IJtqSkydvoaN",
        "outputId": "d6dc8833-a6b6-4038-9eb7-6c7b552be7be"
      },
      "execution_count": 4,
      "outputs": [
        {
          "output_type": "stream",
          "name": "stdout",
          "text": [
            "<class 'set'>\n"
          ]
        }
      ]
    },
    {
      "cell_type": "code",
      "source": [
        "thisset = {\"book\", \"number\", \"wait\"}\n",
        "for x in thisset:\n",
        "  print(x)"
      ],
      "metadata": {
        "colab": {
          "base_uri": "https://localhost:8080/"
        },
        "id": "GxcA8kQJv7u5",
        "outputId": "8ed13f0c-8cec-48b9-aaa4-b1ea9c358c29"
      },
      "execution_count": 8,
      "outputs": [
        {
          "output_type": "stream",
          "name": "stdout",
          "text": [
            "book\n",
            "wait\n",
            "number\n"
          ]
        }
      ]
    },
    {
      "cell_type": "code",
      "source": [
        "thisset = {\"book\", \"number\", \"wait\"}\n",
        "thisset.add(\"pihu\")\n",
        "thisset.remove(\"pihu\")\n",
        "thisset.discard(\"kanu\")\n",
        "thisset.add(\"pihu\")\n",
        "print(thisset)"
      ],
      "metadata": {
        "colab": {
          "base_uri": "https://localhost:8080/"
        },
        "id": "d90xX5m9wY16",
        "outputId": "d6185bdc-9b41-4d27-c70d-5695e1afc35f"
      },
      "execution_count": 24,
      "outputs": [
        {
          "output_type": "stream",
          "name": "stdout",
          "text": [
            "{'book', 'wait', 'pihu', 'number'}\n"
          ]
        }
      ]
    },
    {
      "cell_type": "code",
      "source": [
        "thisset = {\"book\", \"number\", \"wait\"}\n",
        "thisset.pop()"
      ],
      "metadata": {
        "colab": {
          "base_uri": "https://localhost:8080/",
          "height": 35
        },
        "id": "-dWp7sDI0tO4",
        "outputId": "6e89ee77-381d-4331-fecd-b5b4ce287cc8"
      },
      "execution_count": 28,
      "outputs": [
        {
          "output_type": "execute_result",
          "data": {
            "text/plain": [
              "'book'"
            ],
            "application/vnd.google.colaboratory.intrinsic+json": {
              "type": "string"
            }
          },
          "metadata": {},
          "execution_count": 28
        }
      ]
    },
    {
      "cell_type": "code",
      "source": [
        "fruits = {\"apple\", \"banana\", \"cherry\"}\n",
        "fruits.clear()\n",
        "\n",
        "print(id(fruits))"
      ],
      "metadata": {
        "colab": {
          "base_uri": "https://localhost:8080/"
        },
        "id": "k5T2_0Kb1HVg",
        "outputId": "1bed4838-ae9e-478f-ba70-83fd2bf75c77"
      },
      "execution_count": 35,
      "outputs": [
        {
          "output_type": "stream",
          "name": "stdout",
          "text": [
            "139078166627040\n"
          ]
        }
      ]
    },
    {
      "cell_type": "code",
      "source": [
        "fruits = {\"apple\", \"banana\", \"cherry\"}\n",
        "del\n",
        "print()\n",
        ""
      ],
      "metadata": {
        "id": "_13xUhD_1i_R"
      },
      "execution_count": 50,
      "outputs": []
    },
    {
      "cell_type": "code",
      "source": [
        "set={\"pihu\",\"anu\"}\n",
        "set1={\"mango\"}\n",
        "set.update(set1)\n",
        "print(set)"
      ],
      "metadata": {
        "colab": {
          "base_uri": "https://localhost:8080/"
        },
        "id": "8vryiwJ1wqmO",
        "outputId": "13ddffdd-dbad-412a-dc60-7377e61a9016"
      },
      "execution_count": 12,
      "outputs": [
        {
          "output_type": "stream",
          "name": "stdout",
          "text": [
            "{'anu', 'mango', 'pihu'}\n"
          ]
        }
      ]
    },
    {
      "cell_type": "code",
      "source": [
        "set={\"pihu\",\"anu\"}\n",
        "set1={\"mango\"}\n",
        "set.union(set1)\n",
        "print(set)"
      ],
      "metadata": {
        "colab": {
          "base_uri": "https://localhost:8080/"
        },
        "id": "EJZNZovz27BX",
        "outputId": "259d2bd9-9a7e-4232-9b26-ec119df695e5"
      },
      "execution_count": 40,
      "outputs": [
        {
          "output_type": "stream",
          "name": "stdout",
          "text": [
            "{'anu', 'pihu'}\n"
          ]
        }
      ]
    },
    {
      "cell_type": "code",
      "source": [
        "set={\"pihu\",\"anu\"}\n",
        "set1={\"mango\"}\n",
        "set.intersection_update()\n",
        "print(set)"
      ],
      "metadata": {
        "colab": {
          "base_uri": "https://localhost:8080/"
        },
        "id": "PrtRpknQ3NTD",
        "outputId": "84e17f55-b222-4651-c7af-088c16bc6bdd"
      },
      "execution_count": 47,
      "outputs": [
        {
          "output_type": "stream",
          "name": "stdout",
          "text": [
            "{'anu', 'pihu'}\n"
          ]
        }
      ]
    },
    {
      "cell_type": "code",
      "source": [],
      "metadata": {
        "id": "MByNUpER3mgq"
      },
      "execution_count": null,
      "outputs": []
    }
  ]
}