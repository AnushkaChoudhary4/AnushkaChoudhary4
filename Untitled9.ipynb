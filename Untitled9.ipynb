{
  "nbformat": 4,
  "nbformat_minor": 0,
  "metadata": {
    "colab": {
      "provenance": [],
      "authorship_tag": "ABX9TyMC7DuZkSxgKC4rAzn66ybP",
      "include_colab_link": true
    },
    "kernelspec": {
      "name": "python3",
      "display_name": "Python 3"
    },
    "language_info": {
      "name": "python"
    }
  },
  "cells": [
    {
      "cell_type": "markdown",
      "metadata": {
        "id": "view-in-github",
        "colab_type": "text"
      },
      "source": [
        "<a href=\"https://colab.research.google.com/github/AnushkaChoudhary4/AnushkaChoudhary4/blob/main/Untitled9.ipynb\" target=\"_parent\"><img src=\"https://colab.research.google.com/assets/colab-badge.svg\" alt=\"Open In Colab\"/></a>"
      ]
    },
    {
      "cell_type": "code",
      "execution_count": null,
      "metadata": {
        "colab": {
          "base_uri": "https://localhost:8080/"
        },
        "id": "waAVqVxtExQS",
        "outputId": "65f98800-eaff-400c-ea01-27cc9b883eae"
      },
      "outputs": [
        {
          "output_type": "stream",
          "name": "stdout",
          "text": [
            "prime number\n",
            "prime number\n",
            "prime number\n",
            "prime number\n",
            "prime number\n"
          ]
        }
      ],
      "source": [
        "num=7\n",
        "for i in range(2,num):\n",
        " if num%i==0:\n",
        "  print(\"prime\")\n",
        "  break\n",
        " else:\n",
        "  print(\"prime number\")"
      ]
    },
    {
      "cell_type": "code",
      "source": [
        "def factorial(n)\n",
        " result=1\n",
        " while n>1:\n",
        "   result*=n\n",
        "   n-=1\n",
        " return result\n",
        "   n=5\n",
        "   print\n"
      ],
      "metadata": {
        "id": "oq338wDVMn2W"
      },
      "execution_count": null,
      "outputs": []
    },
    {
      "cell_type": "code",
      "source": [
        "n=int(input(\"enter the no.\"))\n",
        "count=0\n",
        "i=1\n",
        "while(i<=n):\n",
        " if (n%i==2):\n",
        "   count=count+1\n",
        "   i=i+1\n",
        "if(count==2):\n",
        "   print(\"prime no.\")\n",
        "else:\n",
        "   print(\"composite no.\")\n"
      ],
      "metadata": {
        "id": "l5Gjz2dsOqnh"
      },
      "execution_count": null,
      "outputs": []
    },
    {
      "cell_type": "code",
      "source": [
        "s=\"pihu\"\n",
        "lof=len(s)\n",
        "str=\"\"\n",
        "while lof>-1:\n",
        "  lof-=1\n",
        "  str+=s[lof]\n",
        "print(str)"
      ],
      "metadata": {
        "id": "lA8TP1EvSIQV",
        "colab": {
          "base_uri": "https://localhost:8080/"
        },
        "outputId": "77be6e7d-110a-4278-f2cd-76a1259f485d"
      },
      "execution_count": null,
      "outputs": [
        {
          "output_type": "stream",
          "name": "stdout",
          "text": [
            "uhipu\n"
          ]
        }
      ]
    },
    {
      "cell_type": "code",
      "source": [
        "s=\"pihu\"\n",
        "lof=len(s)\n",
        "str=\"\"\n",
        "while lof>-0:\n",
        "  lof-=1\n",
        "  str+=s[lof]\n",
        "print(str)"
      ],
      "metadata": {
        "colab": {
          "base_uri": "https://localhost:8080/"
        },
        "id": "BVYqOtGAS3V6",
        "outputId": "69da48e0-9e86-46d0-ea0c-593427b84650"
      },
      "execution_count": null,
      "outputs": [
        {
          "output_type": "stream",
          "name": "stdout",
          "text": [
            "uhip\n"
          ]
        }
      ]
    },
    {
      "cell_type": "code",
      "source": [
        "str=\"my name is pihu\"\n",
        "x=str.split()\n",
        "print[0]"
      ],
      "metadata": {
        "id": "ox9ijk_EV4Zu"
      },
      "execution_count": null,
      "outputs": []
    }
  ]
}