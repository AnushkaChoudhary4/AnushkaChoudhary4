{
  "nbformat": 4,
  "nbformat_minor": 0,
  "metadata": {
    "colab": {
      "provenance": [],
      "authorship_tag": "ABX9TyNumUJK3BHIdwwMKj8Pljp7",
      "include_colab_link": true
    },
    "kernelspec": {
      "name": "python3",
      "display_name": "Python 3"
    },
    "language_info": {
      "name": "python"
    }
  },
  "cells": [
    {
      "cell_type": "markdown",
      "metadata": {
        "id": "view-in-github",
        "colab_type": "text"
      },
      "source": [
        "<a href=\"https://colab.research.google.com/github/AnushkaChoudhary4/AnushkaChoudhary4/blob/main/Untitled26.ipynb\" target=\"_parent\"><img src=\"https://colab.research.google.com/assets/colab-badge.svg\" alt=\"Open In Colab\"/></a>"
      ]
    },
    {
      "cell_type": "code",
      "execution_count": 3,
      "metadata": {
        "colab": {
          "base_uri": "https://localhost:8080/"
        },
        "id": "Xtv_AFcH9yY6",
        "outputId": "01fd298f-56e0-461b-e01e-718c129f014c"
      },
      "outputs": [
        {
          "output_type": "stream",
          "name": "stdout",
          "text": [
            "show speeds\n",
            "show price\n"
          ]
        }
      ],
      "source": [
        "class maruti:\n",
        "  def speed(self):\n",
        "    print(\"show speeds\")\n",
        "class suzuki:\n",
        "  def price(self):\n",
        "    print(\"show price\")\n",
        "class vechicles(maruti,suzuki):\n",
        "  def show(self):\n",
        "    pass\n",
        "v=vechicles()\n",
        "v.speed()\n",
        "v.price()"
      ]
    },
    {
      "cell_type": "code",
      "source": [
        "from abc import ABC, abstractmethod\n",
        "class Polygon(ABC):\n",
        "    @abstractmethod\n",
        "    def noofsides(self):\n",
        "        pass\n",
        "class Triangle(Polygon):\n",
        "    def noofsides(self):\n",
        "        print(\"I have 3 sides\")\n",
        "class Pentagon(Polygon):\n",
        "    def noofsides(self):\n",
        "        print(\"I have 5 sides\")\n",
        "class Hexagon(Polygon):\n",
        "   def noofsides(self):\n",
        "        print(\"I have 6 sides\")\n",
        "class Quadrilateral(Polygon):\n",
        "    def noofsides(self):\n",
        "        print(\"I have 4 sides\")\n",
        "\n",
        "\n",
        "\n",
        "R = Triangle()\n",
        "R.noofsides()\n",
        "\n",
        "K = Quadrilateral()\n",
        "K.noofsides()\n",
        "\n",
        "R = Pentagon()\n",
        "R.noofsides()\n",
        "K = Hexagon()\n",
        "K.noofsides()"
      ],
      "metadata": {
        "colab": {
          "base_uri": "https://localhost:8080/"
        },
        "id": "7bh0psIhBuzF",
        "outputId": "b7001d6c-4508-448e-aa65-1724dd43288d"
      },
      "execution_count": 7,
      "outputs": [
        {
          "output_type": "stream",
          "name": "stdout",
          "text": [
            "I have 3 sides\n",
            "I have 4 sides\n",
            "I have 5 sides\n",
            "I have 6 sides\n"
          ]
        }
      ]
    }
  ]
}